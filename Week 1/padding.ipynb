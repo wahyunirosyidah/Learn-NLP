{
 "cells": [
  {
   "cell_type": "code",
   "execution_count": 2,
   "metadata": {},
   "outputs": [],
   "source": [
    "import tensorflow as tf"
   ]
  },
  {
   "cell_type": "code",
   "execution_count": 9,
   "metadata": {},
   "outputs": [
    {
     "name": "stdout",
     "output_type": "stream",
     "text": [
      "0 \n",
      "1 [UNK]\n",
      "2 i\n",
      "3 wahyuni\n",
      "4 wahyu\n",
      "5 supernova\n",
      "6 me\n",
      "7 love\n",
      "8 huh\n",
      "9 cantik\n",
      "10 bukan\n",
      "11 ayu\n",
      "12 am\n"
     ]
    }
   ],
   "source": [
    "#Sample inputs\n",
    "\n",
    "sentences=[\n",
    "    'Ayu cantik',\n",
    "    'Wahyuni bukan Wahyu',\n",
    "    'I love me',\n",
    "    'Am I supernova huh?'\n",
    "]\n",
    "\n",
    "#inisialisasi layer\n",
    "vectorize_layer=tf.keras.layers.TextVectorization()\n",
    "\n",
    "#Build vocabulary\n",
    "#tiap kata pada sentences disimpan dalam bentuk indeks\n",
    "vectorize_layer.adapt(sentences)\n",
    "\n",
    "#Get the vocabulary\n",
    "vocabulary=vectorize_layer.get_vocabulary()\n",
    "\n",
    "#Print the token index\n",
    "for index, word in enumerate(vocabulary):\n",
    "    print(index, word)"
   ]
  },
  {
   "cell_type": "code",
   "execution_count": 10,
   "metadata": {},
   "outputs": [
    {
     "name": "stdout",
     "output_type": "stream",
     "text": [
      "Input: \n",
      "['Ayu cantik', 'Wahyuni bukan Wahyu', 'I love me', 'Am I supernova huh?']\n",
      "\n",
      "Output: \n",
      "tf.Tensor(\n",
      "[[11  9  0  0]\n",
      " [ 3 10  4  0]\n",
      " [ 2  7  6  0]\n",
      " [12  2  5  8]], shape=(4, 4), dtype=int64)\n"
     ]
    }
   ],
   "source": [
    "sequences_post=vectorize_layer(sentences)\n",
    "\n",
    "print('Input: ')\n",
    "print(sentences)\n",
    "print()\n",
    "\n",
    "print('Output: ')\n",
    "print(sequences_post)"
   ]
  },
  {
   "cell_type": "code",
   "execution_count": 4,
   "metadata": {},
   "outputs": [
    {
     "name": "stdout",
     "output_type": "stream",
     "text": [
      "tf.Tensor(\n",
      "[[1 1 1 0]\n",
      " [2 7 6 0]\n",
      " [2 7 1 1]], shape=(3, 4), dtype=int64)\n",
      "\n",
      " tf.Tensor([12  2  5  8], shape=(4,), dtype=int64)\n"
     ]
    }
   ],
   "source": [
    "#Memeriksa token pada suatu kalimat\n",
    "#convert sentence to integer sequences\n",
    "\n",
    "sample_sentence=[\n",
    "        'saya makan nasi',\n",
    "        'i love me',\n",
    "        'i love nasi padang'\n",
    "]\n",
    "\n",
    "sample_sentence2='am i supernova huh? '\n",
    "\n",
    "#convert\n",
    "sequences1=vectorize_layer(sample_sentence)\n",
    "sequences2=vectorize_layer(sample_sentence2)\n",
    "\n",
    "# for index, word in enumerate(sample_sentence):\n",
    "print(sequences1)\n",
    "print(\"\\n\",sequences2)"
   ]
  },
  {
   "cell_type": "code",
   "execution_count": 5,
   "metadata": {},
   "outputs": [
    {
     "name": "stdout",
     "output_type": "stream",
     "text": [
      "Ayu cantik ----> [11  9]\n",
      "Wahyuni bukan Wahyu ----> [ 3 10  4]\n",
      "I love me ----> [2 7 6]\n",
      "Am I supernova huh? ----> [12  2  5  8]\n"
     ]
    }
   ],
   "source": [
    "#convert the list to tf.data.Dataset\n",
    "#membuat daftar dari kalimat menjadi suatu dataset\n",
    "#setiap elemen dari dataset adalah satu kalimat dari sentences\n",
    "sentences_dataset=tf.data.Dataset.from_tensor_slices(sentences)\n",
    "\n",
    "#mapping function untuk convert each inputs to integer sequence\n",
    "sequences_sentence=sentences_dataset.map(vectorize_layer)\n",
    "\n",
    "for sentences, sequences_sentence in zip(sentences, sequences_sentence):\n",
    "    print(f\"{sentences} ----> {sequences_sentence}\")\n",
    "\n"
   ]
  },
  {
   "cell_type": "code",
   "execution_count": 6,
   "metadata": {},
   "outputs": [
    {
     "name": "stdout",
     "output_type": "stream",
     "text": [
      "Input: \n",
      "Am I supernova huh?\n",
      "\n",
      "Output: \n",
      "tf.Tensor([12  2  5  8], shape=(4,), dtype=int64)\n"
     ]
    }
   ],
   "source": [
    "sequences_post=vectorize_layer(sentences)\n",
    "\n",
    "print('Input: ')\n",
    "print(sentences)\n",
    "print()\n",
    "\n",
    "print('Output: ')\n",
    "print(sequences_post)"
   ]
  },
  {
   "cell_type": "code",
   "execution_count": null,
   "metadata": {},
   "outputs": [],
   "source": []
  }
 ],
 "metadata": {
  "kernelspec": {
   "display_name": "Python 3",
   "language": "python",
   "name": "python3"
  },
  "language_info": {
   "codemirror_mode": {
    "name": "ipython",
    "version": 3
   },
   "file_extension": ".py",
   "mimetype": "text/x-python",
   "name": "python",
   "nbconvert_exporter": "python",
   "pygments_lexer": "ipython3",
   "version": "3.12.2"
  }
 },
 "nbformat": 4,
 "nbformat_minor": 2
}
