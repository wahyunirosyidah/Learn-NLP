{
 "cells": [
  {
   "cell_type": "markdown",
   "metadata": {},
   "source": [
    "#### Try to convert input sentences into numeric sequences"
   ]
  },
  {
   "cell_type": "code",
   "execution_count": 1,
   "metadata": {},
   "outputs": [],
   "source": [
    "import tensorflow as tf"
   ]
  },
  {
   "cell_type": "markdown",
   "metadata": {},
   "source": [
    "Korpus merupakan kumpulan teks yang tersimpan secara elektronik untuk berbagai kebutuhan penyelidikan dan penelitian, salah satunya dalam pemrosesan bahasa alami (Natural Language Processing)."
   ]
  },
  {
   "cell_type": "markdown",
   "metadata": {},
   "source": [
    "In previous lab, i use the TextVectorization layer to build vocabulary from my corpus. Itu menghasilkan daftar di mana kata-kata yang lebih sering muncul memiliki indeks yang lebih rendah."
   ]
  },
  {
   "cell_type": "code",
   "execution_count": 3,
   "metadata": {},
   "outputs": [
    {
     "name": "stdout",
     "output_type": "stream",
     "text": [
      "0 \n",
      "1 [UNK]\n",
      "2 i\n",
      "3 wahyuni\n",
      "4 wahyu\n",
      "5 supernova\n",
      "6 me\n",
      "7 love\n",
      "8 cantik\n",
      "9 bukan\n",
      "10 ayu\n",
      "11 am\n"
     ]
    }
   ],
   "source": [
    "#Sample inputs\n",
    "\n",
    "sentences=[\n",
    "    'Ayu cantik',\n",
    "    'Wahyuni bukan Wahyu',\n",
    "    'I love me',\n",
    "    'Am I supernova?'\n",
    "]\n",
    "\n",
    "#inisialisasi layer\n",
    "vectorize_layer=tf.keras.layers.TextVectorization()\n",
    "\n",
    "#Build vocabulary\n",
    "#tiap kata pada sentences disimpan dalam bentuk indeks\n",
    "vectorize_layer.adapt(sentences)\n",
    "\n",
    "#Get the vocabulary\n",
    "vocabulary=vectorize_layer.get_vocabulary()\n",
    "\n",
    "#Print the token index\n",
    "for index, word in enumerate(vocabulary):\n",
    "    print(index, word)"
   ]
  },
  {
   "cell_type": "code",
   "execution_count": 9,
   "metadata": {},
   "outputs": [
    {
     "name": "stdout",
     "output_type": "stream",
     "text": [
      "tf.Tensor(\n",
      "[[1 1 1]\n",
      " [2 7 6]\n",
      " [2 7 1]], shape=(3, 3), dtype=int64)\n"
     ]
    }
   ],
   "source": [
    "#Memeriksa token pada suatu kalimat\n",
    "#convert sentence to integer sequences\n",
    "\n",
    "sample_sentence=[\n",
    "        'saya makan nasi',\n",
    "        'i love me',\n",
    "        'i love nasi'\n",
    "]\n",
    "\n",
    "#convert\n",
    "sequences=vectorize_layer(sample_sentence)\n",
    "\n",
    "# for index, word in enumerate(sample_sentence):\n",
    "print(sequences)"
   ]
  },
  {
   "cell_type": "code",
   "execution_count": null,
   "metadata": {},
   "outputs": [],
   "source": []
  }
 ],
 "metadata": {
  "kernelspec": {
   "display_name": "Python 3",
   "language": "python",
   "name": "python3"
  },
  "language_info": {
   "codemirror_mode": {
    "name": "ipython",
    "version": 3
   },
   "file_extension": ".py",
   "mimetype": "text/x-python",
   "name": "python",
   "nbconvert_exporter": "python",
   "pygments_lexer": "ipython3",
   "version": "3.12.2"
  }
 },
 "nbformat": 4,
 "nbformat_minor": 2
}
