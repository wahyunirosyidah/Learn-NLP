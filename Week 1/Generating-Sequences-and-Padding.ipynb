{
 "cells": [
  {
   "cell_type": "markdown",
   "metadata": {},
   "source": [
    "#### Try to convert input sentences into numeric sequences"
   ]
  },
  {
   "cell_type": "code",
   "execution_count": 169,
   "metadata": {},
   "outputs": [],
   "source": [
    "import tensorflow as tf"
   ]
  },
  {
   "cell_type": "markdown",
   "metadata": {},
   "source": [
    "Korpus merupakan kumpulan teks yang tersimpan secara elektronik untuk berbagai kebutuhan penyelidikan dan penelitian, salah satunya dalam pemrosesan bahasa alami (Natural Language Processing)."
   ]
  },
  {
   "cell_type": "markdown",
   "metadata": {},
   "source": [
    "In previous lab, i use the TextVectorization layer to build vocabulary from my corpus. Itu menghasilkan daftar di mana kata-kata yang lebih sering muncul memiliki indeks yang lebih rendah."
   ]
  },
  {
   "cell_type": "code",
   "execution_count": 170,
   "metadata": {},
   "outputs": [
    {
     "name": "stdout",
     "output_type": "stream",
     "text": [
      "0 \n",
      "1 [UNK]\n",
      "2 i\n",
      "3 wahyuni\n",
      "4 wahyu\n",
      "5 supernova\n",
      "6 me\n",
      "7 love\n",
      "8 cantik\n",
      "9 bukan\n",
      "10 ayu\n",
      "11 am\n"
     ]
    }
   ],
   "source": [
    "#Sample inputs\n",
    "\n",
    "sentences=[\n",
    "    'Ayu cantik',\n",
    "    'Wahyuni bukan Wahyu',\n",
    "    'I love me',\n",
    "    'Am I supernova?'\n",
    "]\n",
    "\n",
    "#inisialisasi layer\n",
    "vectorize_layer=tf.keras.layers.TextVectorization()\n",
    "\n",
    "#Build vocabulary\n",
    "#tiap kata pada sentences disimpan dalam bentuk indeks\n",
    "vectorize_layer.adapt(sentences)\n",
    "\n",
    "#Get the vocabulary\n",
    "vocabulary=vectorize_layer.get_vocabulary()\n",
    "\n",
    "#Print the token index\n",
    "for index, word in enumerate(vocabulary):\n",
    "    print(index, word)\n",
    "\n"
   ]
  },
  {
   "cell_type": "code",
   "execution_count": 171,
   "metadata": {},
   "outputs": [
    {
     "name": "stdout",
     "output_type": "stream",
     "text": [
      "tf.Tensor(\n",
      "[[1 1 1 0]\n",
      " [2 7 6 0]\n",
      " [2 7 1 1]], shape=(3, 4), dtype=int64)\n",
      "\n",
      " tf.Tensor([11  2  5  1], shape=(4,), dtype=int64)\n"
     ]
    }
   ],
   "source": [
    "#Memeriksa token pada suatu kalimat\n",
    "#convert sentence to integer sequences\n",
    "\n",
    "sample_sentence=[\n",
    "        'saya makan nasi',\n",
    "        'i love me',\n",
    "        'i love nasi padang'\n",
    "]\n",
    "\n",
    "sample_sentence2='am i supernova huh? '\n",
    "\n",
    "#convert\n",
    "sequences1=vectorize_layer(sample_sentence)\n",
    "sequences2=vectorize_layer(sample_sentence2)\n",
    "\n",
    "# for index, word in enumerate(sample_sentence):\n",
    "print(sequences1)\n",
    "print(\"\\n\",sequences2)\n",
    "\n",
    "\n"
   ]
  },
  {
   "cell_type": "markdown",
   "metadata": {},
   "source": [
    "For a given list of string inputs (such as the 4-item `sentences` list above), you will need to apply the layer to each input. There's more than one way to do this. Let's first use the `map()` method and see the results."
   ]
  },
  {
   "cell_type": "markdown",
   "metadata": {},
   "source": [
    "Untuk list of string inputs tertentu (seperti daftar `sentences` berisi 4 item di atas), Anda perlu menerapkan layer tersebut ke setiap masukan. Ada lebih dari satu cara untuk melakukannya. Mari kita gunakan metode `map()` terlebih dahulu dan lihat hasilnya."
   ]
  },
  {
   "cell_type": "code",
   "execution_count": 172,
   "metadata": {},
   "outputs": [
    {
     "name": "stdout",
     "output_type": "stream",
     "text": [
      "Ayu cantik ----> [10  8]\n",
      "Wahyuni bukan Wahyu ----> [3 9 4]\n",
      "I love me ----> [2 7 6]\n",
      "Am I supernova? ----> [11  2  5]\n"
     ]
    }
   ],
   "source": [
    "#convert the list to tf.data.Dataset\n",
    "#membuat daftar dari kalimat menjadi suatu dataset\n",
    "#setiap elemen dari dataset adalah satu kalimat dari sentences\n",
    "sentences_dataset = tf.data.Dataset.from_tensor_slices(sentences)\n",
    "\n",
    "#mapping function untuk convert each inputs to integer sequence\n",
    "sequences_convert=sentences_dataset.map(vectorize_layer)\n",
    "\n",
    "for sentencenya, sequencenya in zip(sentences, sequences_convert):\n",
    "    print(f\"{sentencenya} ----> {sequencenya}\")\n",
    "\n",
    "\n"
   ]
  },
  {
   "cell_type": "markdown",
   "metadata": {},
   "source": [
    "## Padding\n"
   ]
  },
  {
   "cell_type": "markdown",
   "metadata": {},
   "source": [
    "index for padding --> [0]"
   ]
  },
  {
   "cell_type": "markdown",
   "metadata": {},
   "source": [
    "#### Post-padding"
   ]
  },
  {
   "cell_type": "code",
   "execution_count": 173,
   "metadata": {},
   "outputs": [
    {
     "name": "stdout",
     "output_type": "stream",
     "text": [
      "Input: \n",
      "['Ayu cantik', 'Wahyuni bukan Wahyu', 'I love me', 'Am I supernova?']\n",
      "\n",
      "Output: \n",
      "tf.Tensor(\n",
      "[[10  8  0]\n",
      " [ 3  9  4]\n",
      " [ 2  7  6]\n",
      " [11  2  5]], shape=(4, 3), dtype=int64)\n"
     ]
    }
   ],
   "source": [
    "sequences_post = vectorize_layer(sentences)\n",
    "\n",
    "print('Input: ')\n",
    "print(sentences)\n",
    "print()\n",
    "\n",
    "print('Output: ')\n",
    "print(sequences_post)"
   ]
  },
  {
   "cell_type": "markdown",
   "metadata": {},
   "source": [
    "#### Pre-padding"
   ]
  },
  {
   "cell_type": "code",
   "execution_count": null,
   "metadata": {},
   "outputs": [],
   "source": []
  },
  {
   "cell_type": "code",
   "execution_count": null,
   "metadata": {},
   "outputs": [],
   "source": []
  }
 ],
 "metadata": {
  "kernelspec": {
   "display_name": "Python 3",
   "language": "python",
   "name": "python3"
  },
  "language_info": {
   "codemirror_mode": {
    "name": "ipython",
    "version": 3
   },
   "file_extension": ".py",
   "mimetype": "text/x-python",
   "name": "python",
   "nbconvert_exporter": "python",
   "pygments_lexer": "ipython3",
   "version": "3.12.2"
  }
 },
 "nbformat": 4,
 "nbformat_minor": 2
}
