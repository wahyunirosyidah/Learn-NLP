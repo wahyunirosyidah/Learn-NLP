{
 "cells": [
  {
   "cell_type": "code",
   "execution_count": 1,
   "metadata": {},
   "outputs": [],
   "source": [
    "# Daftar gejala dan rekomendasi jamu\n",
    "gejala_jamu = {\n",
    "    \"batuk\": [\"Jamu Kunyit Asam\", \"Jamu Jahe\"],\n",
    "    \"demam\": [\"Jamu Temulawak\", \"Jamu Brotowali\"],\n",
    "    \"sakit kepala\": [\"Jamu Beras Kencur\"],\n",
    "    \"masuk angin\": [\"Jamu Jahe\", \"Jamu Temulawak\"],\n",
    "    \"nyeri otot\": [\"Jamu Kencur\", \"Jamu Brotowali\"]\n",
    "}"
   ]
  },
  {
   "cell_type": "code",
   "execution_count": 2,
   "metadata": {},
   "outputs": [],
   "source": [
    "# Fungsi untuk rekomendasi jamu berdasarkan input gejala\n",
    "def rekomendasi_jamu(gejala_input):\n",
    "    rekomendasi = []\n",
    "    gejala_input = gejala_input.lower()  # Mengubah input menjadi huruf kecil untuk pencocokan\n",
    "    \n",
    "    for gejala, jamu_list in gejala_jamu.items():\n",
    "        # Memeriksa apakah gejala ada di dalam input pengguna\n",
    "        if gejala in gejala_input:\n",
    "            rekomendasi.extend(jamu_list)  # Menambahkan jamu yang direkomendasikan untuk gejala tersebut\n",
    "    \n",
    "    # Menghapus duplikat rekomendasi (jika ada) dan mengembalikan hasil\n",
    "    return list(set(rekomendasi)) if rekomendasi else [\"Jamu tidak ditemukan untuk gejala yang dimasukkan\"]\n"
   ]
  },
  {
   "cell_type": "code",
   "execution_count": 3,
   "metadata": {},
   "outputs": [],
   "source": [
    "# Contoh penggunaan fungsi\n",
    "gejala_user = input(\"Masukkan gejala yang Anda alami: \")  # Meminta input gejala dari pengguna\n",
    "hasil_rekomendasi = rekomendasi_jamu(gejala_user)\n"
   ]
  },
  {
   "cell_type": "code",
   "execution_count": 4,
   "metadata": {},
   "outputs": [
    {
     "name": "stdout",
     "output_type": "stream",
     "text": [
      "\n",
      "Rekomendasi jamu untuk gejala Anda:\n",
      "- Jamu Jahe\n",
      "- Jamu Kunyit Asam\n"
     ]
    }
   ],
   "source": [
    "# Menampilkan rekomendasi\n",
    "print(\"\\nRekomendasi jamu untuk gejala Anda:\")\n",
    "for jamu in hasil_rekomendasi:\n",
    "    print(\"- \" + jamu)\n"
   ]
  }
 ],
 "metadata": {
  "kernelspec": {
   "display_name": "Python 3",
   "language": "python",
   "name": "python3"
  },
  "language_info": {
   "codemirror_mode": {
    "name": "ipython",
    "version": 3
   },
   "file_extension": ".py",
   "mimetype": "text/x-python",
   "name": "python",
   "nbconvert_exporter": "python",
   "pygments_lexer": "ipython3",
   "version": "3.12.2"
  }
 },
 "nbformat": 4,
 "nbformat_minor": 2
}
