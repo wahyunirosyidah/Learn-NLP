{
 "cells": [
  {
   "cell_type": "code",
   "execution_count": 13,
   "metadata": {},
   "outputs": [],
   "source": [
    "# Import library yang mungkin dibutuhkan\n",
    "import re  # Untuk praproses teks (regex)\n",
    "import numpy as np  # Untuk manipulasi data (jika diperlukan)\n",
    "from sklearn.feature_extraction.text import CountVectorizer"
   ]
  },
  {
   "cell_type": "code",
   "execution_count": 14,
   "metadata": {},
   "outputs": [],
   "source": [
    "# Jika ingin menggunakan embedding NLP, tambahkan NLTK atau Hugging Face Transformers\n",
    "# import nltk\n",
    "# from transformers import pipeline  # Menggunakan model NLP pra-latih seperti BERT (opsional)\n"
   ]
  },
  {
   "cell_type": "code",
   "execution_count": 15,
   "metadata": {},
   "outputs": [],
   "source": [
    "# Daftar gejala dan rekomendasi jamu\n",
    "gejala_jamu = {\n",
    "    \"batuk\": [\"Jamu Kunyit Asam\", \"Jamu Jahe\"],\n",
    "    \"demam\": [\"Jamu Temulawak\", \"Jamu Brotowali\"],\n",
    "    \"sakit kepala\": [\"Jamu Beras Kencur\"],\n",
    "    \"masuk angin\": [\"Jamu Jahe\", \"Jamu Temulawak\"],\n",
    "    \"nyeri otot\": [\"Jamu Kencur\", \"Jamu Brotowali\"]\n",
    "}"
   ]
  },
  {
   "cell_type": "code",
   "execution_count": 16,
   "metadata": {},
   "outputs": [],
   "source": [
    "# Fungsi untuk melakukan praproses pada input teks\n",
    "def preprocess_text(text):\n",
    "    # Mengubah teks menjadi huruf kecil\n",
    "    text = text.lower()\n",
    "    # Menghapus karakter spesial dengan regex\n",
    "    text = re.sub(r'[^a-zA-Z\\s]', '', text)\n",
    "    return text"
   ]
  },
  {
   "cell_type": "code",
   "execution_count": 17,
   "metadata": {},
   "outputs": [],
   "source": [
    "# Fungsi untuk rekomendasi jamu berdasarkan input gejala\n",
    "def rekomendasi_jamu(gejala_input):\n",
    "    # Praproses input teks\n",
    "    gejala_input = preprocess_text(gejala_input)\n",
    "    rekomendasi = []\n",
    "    \n",
    "    for gejala, jamu_list in gejala_jamu.items():\n",
    "        # Memeriksa apakah gejala ada di dalam input pengguna\n",
    "        if gejala in gejala_input:\n",
    "            rekomendasi.extend(jamu_list)  # Menambahkan jamu yang direkomendasikan untuk gejala tersebut\n",
    "    \n",
    "    # Menghapus duplikat rekomendasi (jika ada) dan mengembalikan hasil\n",
    "    return list(set(rekomendasi)) if rekomendasi else [\"Jamu tidak ditemukan untuk gejala yang dimasukkan\"]\n"
   ]
  },
  {
   "cell_type": "code",
   "execution_count": 18,
   "metadata": {},
   "outputs": [],
   "source": [
    "# Contoh penggunaan fungsi\n",
    "gejala_user = input(\"Masukkan gejala yang Anda alami: \")  # Meminta input gejala dari pengguna\n",
    "hasil_rekomendasi = rekomendasi_jamu(gejala_user)"
   ]
  },
  {
   "cell_type": "code",
   "execution_count": 19,
   "metadata": {},
   "outputs": [
    {
     "name": "stdout",
     "output_type": "stream",
     "text": [
      "\n",
      "Rekomendasi jamu untuk gejala Anda:\n",
      "- Jamu Kunyit Asam\n",
      "- Jamu Jahe\n"
     ]
    }
   ],
   "source": [
    "# Menampilkan rekomendasi\n",
    "print(\"\\nRekomendasi jamu untuk gejala Anda:\")\n",
    "for jamu in hasil_rekomendasi:\n",
    "    print(\"- \" + jamu)"
   ]
  }
 ],
 "metadata": {
  "kernelspec": {
   "display_name": "Python 3",
   "language": "python",
   "name": "python3"
  },
  "language_info": {
   "codemirror_mode": {
    "name": "ipython",
    "version": 3
   },
   "file_extension": ".py",
   "mimetype": "text/x-python",
   "name": "python",
   "nbconvert_exporter": "python",
   "pygments_lexer": "ipython3",
   "version": "3.12.2"
  }
 },
 "nbformat": 4,
 "nbformat_minor": 2
}
